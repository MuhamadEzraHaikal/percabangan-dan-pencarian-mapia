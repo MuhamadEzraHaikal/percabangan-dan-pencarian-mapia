{
 "cells": [
  {
   "cell_type": "markdown",
   "id": "9b5ae2ed",
   "metadata": {},
   "source": [
    "PERCABANGAN"
   ]
  },
  {
   "cell_type": "code",
   "execution_count": 10,
   "id": "d8183b00",
   "metadata": {},
   "outputs": [
    {
     "name": "stdout",
     "output_type": "stream",
     "text": [
      "isikan nilai90\n",
      "90adalah bilangan genap\n",
      "program selesai\n"
     ]
    }
   ],
   "source": [
    "#MENENTUKAN GANJIL GENAP\n",
    "nilai = int(input('isikan nilai'))\n",
    "sisa_bagi = nilai % 2 \n",
    "\n",
    "if sisa_bagi==0:\n",
    "    print (f'{nilai}adalah bilangan genap')\n",
    "else :\n",
    "    print  (f'{nilai} adalah bilangan ganjil')\n",
    "print('program selesai')"
   ]
  },
  {
   "cell_type": "code",
   "execution_count": 25,
   "id": "9314c04d",
   "metadata": {},
   "outputs": [
    {
     "name": "stdout",
     "output_type": "stream",
     "text": [
      "isikan nilai pemrograman:-90\n",
      "nilai anda salah\n"
     ]
    }
   ],
   "source": [
    "# 0 - 49 => E\n",
    "# 50 - 59 => D\n",
    "# 60 - 69 => c\n",
    "# 70 - 84 => B\n",
    "# 85 - 100 => A\n",
    "\n",
    "nilai_program = int(input('isikan nilai pemrograman:'))\n",
    "if nilai_program <0 or nilai_program >100:\n",
    "    print (\"nilai anda salah\")\n",
    "else :\n",
    "    if nilai_program <50:\n",
    "        print (\"E\")\n",
    "    elif nilai_program <60: \n",
    "        print (\"D\")\n",
    "    elif nilai_program <70:\n",
    "        print (\"C\")\n",
    "    elif nilai_program <85:\n",
    "        print (\"B\")\n",
    "    elif nilai_program <=100:\n",
    "        print (\"A\")"
   ]
  },
  {
   "cell_type": "code",
   "execution_count": null,
   "id": "2f3c2ab0",
   "metadata": {},
   "outputs": [],
   "source": [
    "username = input ('isikan username:')\n",
    "password = input ('isikan password:')\n",
    "\n",
    "if username == 'admin':\n",
    "    if password == 'admin':\n",
    "        print(f'selamat datang {username}')\n",
    "    else:\n",
    "        print(f'password anda salah')\n",
    "else:\n",
    "    if password == 'admin':\n",
    "        print(\"Username anda salah\")\n",
    "    else:\n",
    "        print (\"username dan password anda salah\")"
   ]
  },
  {
   "cell_type": "code",
   "execution_count": 1,
   "id": "41419508",
   "metadata": {},
   "outputs": [
    {
     "name": "stdout",
     "output_type": "stream",
     "text": [
      "isikan namasehan\n",
      "isikan umur30\n",
      "isikan tempat tinggalnevada\n",
      "isikan jumlah tabungan1\n",
      "sehan kemungkinan seorang mapia syndicat sicilia dengan pangkat underboss\n"
     ]
    }
   ],
   "source": [
    "nama = input('isikan nama')\n",
    "umur = int (input('isikan umur'))\n",
    "alamat = input('isikan tempat tinggal')\n",
    "tabungan = int (input('isikan jumlah tabungan'))\n",
    "\n",
    "#don\n",
    "pangkat = ''\n",
    "if umur >40:\n",
    "    if alamat == 'nevada' or alamat == 'new york' or alamat == 'havana':\n",
    "        if tabungan > 10:\n",
    "            pangkat = 'don'\n",
    "            \n",
    "            \n",
    "elif umur >=25 and umur <=40 :\n",
    "    if alamat == 'new jersey' or alamat == 'manhattan' or alamat == 'nevada':\n",
    "        if tabungan >0 and tabungan <=2:\n",
    "            pangkat = 'underboss'\n",
    "\n",
    "            \n",
    "elif umur >=18 and umur <=24 :\n",
    "    if alamat == 'california' or alamat == 'detroit' or alamat == 'boston':\n",
    "        if tabungan <1:\n",
    "            pangkat = 'capo'\n",
    "\n",
    "if pangkat != '':\n",
    "    print (f'{nama} kemungkinan seorang mapia syndicat sicilia dengan pangkat {pangkat}')\n",
    "else :\n",
    "    print (f'{nama} tidak mencurigakan')"
   ]
  }
 ],
 "metadata": {
  "kernelspec": {
   "display_name": "Python 3 (ipykernel)",
   "language": "python",
   "name": "python3"
  },
  "language_info": {
   "codemirror_mode": {
    "name": "ipython",
    "version": 3
   },
   "file_extension": ".py",
   "mimetype": "text/x-python",
   "name": "python",
   "nbconvert_exporter": "python",
   "pygments_lexer": "ipython3",
   "version": "3.9.12"
  }
 },
 "nbformat": 4,
 "nbformat_minor": 5
}
